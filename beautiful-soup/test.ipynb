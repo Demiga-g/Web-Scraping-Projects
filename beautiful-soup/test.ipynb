{
 "cells": [
  {
   "cell_type": "code",
   "execution_count": 9,
   "metadata": {},
   "outputs": [],
   "source": [
    "# import re\n",
    "# import requests\n",
    "# from bs4 import BeautifulSoup\n",
    "# from collections import ChainMap \n",
    "\n",
    "\n",
    "# def extract(page=1, page_size=50):\n",
    "#     headers = {\"User-Agent\": \"Mozilla/5.0 (Windows NT 10.0; Win64; x64) AppleWebKit/537.36 (KHTML, like Gecko) Chrome/116.0.0.0 Safari/537.36\"}\n",
    "#     url = f\"https://www.airlinequality.com/airline-reviews/kenya-airways/page/{page}/?sortby=post_date%3ADesc&pagesize={page_size}\"\n",
    "    \n",
    "#     response = requests.get(url, headers)\n",
    "#     return response.status_code\n",
    "        \n",
    "    \n",
    "# print(extract(page=0, page_size=200))"
   ]
  },
  {
   "cell_type": "code",
   "execution_count": 10,
   "metadata": {},
   "outputs": [],
   "source": [
    "import re\n",
    "import pandas as pd\n",
    "import requests\n",
    "from bs4 import BeautifulSoup"
   ]
  },
  {
   "cell_type": "code",
   "execution_count": 11,
   "metadata": {},
   "outputs": [],
   "source": [
    "def extract(page):\n",
    "    headers = {\"User-Agent\": \"Mozilla/5.0 (Windows NT 10.0; Win64; x64) AppleWebKit/537.36 (KHTML, like Gecko) Chrome/116.0.0.0 Safari/537.36\"}\n",
    "    url = f\"https://www.airlinequality.com/airline-reviews/kenya-airways/page/{page}/?sortby=post_date%3ADesc&pagesize=100\"\n",
    "    r = requests.get(url, headers)\n",
    "    soup = BeautifulSoup(r.content, 'lxml')\n",
    "    return soup\n",
    "\n",
    "\n",
    "review_list = []    \n",
    "def transform(soup):\n",
    "    articles = soup.find_all('article', itemprop=\"review\")\n",
    "    # print(articles[0])\n",
    "\n",
    "    for article in articles:\n",
    "        # Get date when article was published\n",
    "        try:\n",
    "            date_published = article.find('meta', itemprop=\"datePublished\").get('content', '')\n",
    "        except:\n",
    "            date_published = 'NA'\n",
    "\n",
    "        # Get summary title overview\n",
    "        try:\n",
    "            summary_title = article.find(\"h2\", class_=\"text_header\").text\n",
    "        except:\n",
    "            summary_title = 'NA'\n",
    "            \n",
    "        # Get country of origin\n",
    "        try:\n",
    "            countries = article.find(\"h3\", class_=\"text_sub_header userStatusWrapper\")\n",
    "            country = re.search(r'\\((.*?)\\)', countries.text).group(1)\n",
    "        except:\n",
    "            country = 'NA'\n",
    "\n",
    "        # Get trip verification details\n",
    "        try:\n",
    "            ver_status = article.find('div', class_='text_content', itemprop='reviewBody')\n",
    "            ver_pattern = r'(Trip Verified|Not Verified)'\n",
    "            verification_status = re.search(ver_pattern, ver_status.get_text(strip=True)).group()\n",
    "        except:\n",
    "            verification_status = 'NA'\n",
    "            \n",
    "        # Get trip reviews\n",
    "        try:\n",
    "            reviews = article.find('div', class_='text_content', itemprop='reviewBody').get_text(strip=True)\n",
    "            ignore_strs = [\"✅Trip Verified|\", \"Not Verified|\"]\n",
    "            for i in ignore_strs:\n",
    "                if reviews.startswith(i):\n",
    "                    reviews = reviews[len(i):].strip()\n",
    "        except:\n",
    "            reviews = 'NA'\n",
    "            \n",
    "            \n",
    "        # Get clients rating (out of ten)  \n",
    "        try:\n",
    "            ratings = article.find('span', itemprop=\"ratingValue\").get_text(strip=True)\n",
    "        except:\n",
    "            ratings = 'NA'\n",
    "\n",
    "        # Get clients opinion about recommending the airlines\n",
    "        try:\n",
    "            recommendation = article.find('td', class_='review-rating-header recommended')\\\n",
    "                .find_next('td', class_=\"review-value\").text\n",
    "        except:\n",
    "            recommendation = 'NA'\n",
    "        \n",
    "        \n",
    "        general_dict = {\n",
    "            'date_published': date_published,\n",
    "            'summary_title': summary_title,\n",
    "            'country': country,\n",
    "            'trip_verified': verification_status,\n",
    "            'review': reviews,\n",
    "            'ratings_10': ratings,\n",
    "            'recommend': recommendation\n",
    "        }\n",
    "        \n",
    "        # print(general_dict)\n",
    "        \n",
    "        \n",
    "        # Get details about aircraft, reason for travel,cabin and route  \n",
    "        class_descriptive = ['aircraft', 'type_of_traveller', 'cabin_flown', 'route']\n",
    "        details_dict = {}\n",
    "        \n",
    "        for i in class_descriptive:\n",
    "            target_descriptions = article.find('td', {'class': f'review-rating-header {i}'})\n",
    "            try:    \n",
    "                next_td = target_descriptions.find_next('td', class_='review-value') if target_descriptions else 'NA'\n",
    "                details_dict[i] = next_td.get_text(strip=True) if next_td else 'NA'\n",
    "            except:\n",
    "                pass\n",
    "        \n",
    "        # print(details_dict)\n",
    "\n",
    "\n",
    "        # Get clients rating about specific issues\n",
    "        class_stars = ['seat_comfort', 'cabin_staff_service', 'food_and_beverages', 'inflight_entertainment', \n",
    "                    'ground_service', 'wifi_and_connectivity', 'value_for_money']\n",
    "        stars_dict = {}\n",
    "        \n",
    "        for i in class_stars:\n",
    "            target_stars = article.find('td', class_=f'review-rating-header {i}')\n",
    "            try:\n",
    "                rating_td = target_stars.find_next('td', class_='review-rating-stars') if target_stars else 'NA'\n",
    "                stars_dict[i] = len(rating_td.find_all('span', class_='star fill')) if rating_td else 'NA'\n",
    "                \n",
    "                # try:\n",
    "                    # stars_dict[i] = len(rating_td.find_all('span', class_='star fill')) if rating_td else ''\n",
    "                # except:\n",
    "                #     pass\n",
    "        \n",
    "            except:\n",
    "                pass\n",
    "        # print(len(stars_dict))\n",
    "        \n",
    "        \n",
    "        data = general_dict | details_dict | stars_dict\n",
    "        review_list.append(data)\n",
    "    return"
   ]
  },
  {
   "cell_type": "code",
   "execution_count": 12,
   "metadata": {},
   "outputs": [],
   "source": [
    "for i in range(1, 6):\n",
    "    print(f'Scraping from page {i}')\n",
    "    raw_data = extract(page=i)\n",
    "    transform(raw_data)"
   ]
  },
  {
   "cell_type": "code",
   "execution_count": 13,
   "metadata": {},
   "outputs": [
    {
     "data": {
      "text/html": [
       "<div>\n",
       "<style scoped>\n",
       "    .dataframe tbody tr th:only-of-type {\n",
       "        vertical-align: middle;\n",
       "    }\n",
       "\n",
       "    .dataframe tbody tr th {\n",
       "        vertical-align: top;\n",
       "    }\n",
       "\n",
       "    .dataframe thead th {\n",
       "        text-align: right;\n",
       "    }\n",
       "</style>\n",
       "<table border=\"1\" class=\"dataframe\">\n",
       "  <thead>\n",
       "    <tr style=\"text-align: right;\">\n",
       "      <th></th>\n",
       "      <th>date_published</th>\n",
       "      <th>summary_title</th>\n",
       "      <th>country</th>\n",
       "      <th>trip_verified</th>\n",
       "      <th>review</th>\n",
       "      <th>ratings_10</th>\n",
       "      <th>recommend</th>\n",
       "      <th>type_of_traveller</th>\n",
       "      <th>cabin_flown</th>\n",
       "      <th>route</th>\n",
       "      <th>seat_comfort</th>\n",
       "      <th>cabin_staff_service</th>\n",
       "      <th>food_and_beverages</th>\n",
       "      <th>inflight_entertainment</th>\n",
       "      <th>ground_service</th>\n",
       "      <th>wifi_and_connectivity</th>\n",
       "      <th>value_for_money</th>\n",
       "      <th>aircraft</th>\n",
       "    </tr>\n",
       "  </thead>\n",
       "  <tbody>\n",
       "    <tr>\n",
       "      <th>0</th>\n",
       "      <td>2023-08-28</td>\n",
       "      <td>\"Dreadful airline\"</td>\n",
       "      <td>United Kingdom</td>\n",
       "      <td>Trip Verified</td>\n",
       "      <td>Dreadful airline - after emailing customer ser...</td>\n",
       "      <td>3</td>\n",
       "      <td>no</td>\n",
       "      <td>Business</td>\n",
       "      <td>Business Class</td>\n",
       "      <td>Nairobi to London</td>\n",
       "      <td>1.0</td>\n",
       "      <td>5.0</td>\n",
       "      <td>1.0</td>\n",
       "      <td>1.0</td>\n",
       "      <td>5.0</td>\n",
       "      <td>1.0</td>\n",
       "      <td>1.0</td>\n",
       "      <td>NaN</td>\n",
       "    </tr>\n",
       "    <tr>\n",
       "      <th>1</th>\n",
       "      <td>2023-08-26</td>\n",
       "      <td>\"distasteful and shabby treatment2</td>\n",
       "      <td>South Africa</td>\n",
       "      <td>Not Verified</td>\n",
       "      <td>The lady at check-in was very rude and insiste...</td>\n",
       "      <td>2</td>\n",
       "      <td>no</td>\n",
       "      <td>Business</td>\n",
       "      <td>Economy Class</td>\n",
       "      <td>Nairobi to Johannesburg</td>\n",
       "      <td>2.0</td>\n",
       "      <td>2.0</td>\n",
       "      <td>3.0</td>\n",
       "      <td>2.0</td>\n",
       "      <td>1.0</td>\n",
       "      <td>1.0</td>\n",
       "      <td>1.0</td>\n",
       "      <td>NaN</td>\n",
       "    </tr>\n",
       "    <tr>\n",
       "      <th>2</th>\n",
       "      <td>2023-08-23</td>\n",
       "      <td>\"avoid Kenya Airways in future\"</td>\n",
       "      <td>United Kingdom</td>\n",
       "      <td>Trip Verified</td>\n",
       "      <td>Dismal from start to end. Not all of the staff...</td>\n",
       "      <td>3</td>\n",
       "      <td>no</td>\n",
       "      <td>Family Leisure</td>\n",
       "      <td>Business Class</td>\n",
       "      <td>London to Mauritius via Nairobi</td>\n",
       "      <td>4.0</td>\n",
       "      <td>1.0</td>\n",
       "      <td>1.0</td>\n",
       "      <td>2.0</td>\n",
       "      <td>1.0</td>\n",
       "      <td>1.0</td>\n",
       "      <td>2.0</td>\n",
       "      <td>Boeing 787-8 / 737-800</td>\n",
       "    </tr>\n",
       "    <tr>\n",
       "      <th>3</th>\n",
       "      <td>2023-08-22</td>\n",
       "      <td>\"Food was horrible\"</td>\n",
       "      <td>United States</td>\n",
       "      <td>Not Verified</td>\n",
       "      <td>Airline was 1 hour late to board passengers an...</td>\n",
       "      <td>1</td>\n",
       "      <td>no</td>\n",
       "      <td>Family Leisure</td>\n",
       "      <td>Economy Class</td>\n",
       "      <td>Nairobi to New York</td>\n",
       "      <td>1.0</td>\n",
       "      <td>4.0</td>\n",
       "      <td>1.0</td>\n",
       "      <td>1.0</td>\n",
       "      <td>1.0</td>\n",
       "      <td>NaN</td>\n",
       "      <td>1.0</td>\n",
       "      <td>NaN</td>\n",
       "    </tr>\n",
       "    <tr>\n",
       "      <th>4</th>\n",
       "      <td>2023-08-19</td>\n",
       "      <td>\"really disappointed me\"</td>\n",
       "      <td>Uganda</td>\n",
       "      <td>Trip Verified</td>\n",
       "      <td>Kenya Airways has really disappointed me for a...</td>\n",
       "      <td>2</td>\n",
       "      <td>no</td>\n",
       "      <td>Solo Leisure</td>\n",
       "      <td>Economy Class</td>\n",
       "      <td>Nairobi to Entebbe</td>\n",
       "      <td>3.0</td>\n",
       "      <td>3.0</td>\n",
       "      <td>5.0</td>\n",
       "      <td>NaN</td>\n",
       "      <td>4.0</td>\n",
       "      <td>NaN</td>\n",
       "      <td>5.0</td>\n",
       "      <td>NaN</td>\n",
       "    </tr>\n",
       "  </tbody>\n",
       "</table>\n",
       "</div>"
      ],
      "text/plain": [
       "  date_published                       summary_title         country  \\\n",
       "0     2023-08-28                  \"Dreadful airline\"  United Kingdom   \n",
       "1     2023-08-26  \"distasteful and shabby treatment2    South Africa   \n",
       "2     2023-08-23     \"avoid Kenya Airways in future\"  United Kingdom   \n",
       "3     2023-08-22                 \"Food was horrible\"   United States   \n",
       "4     2023-08-19           \"really disappointed me\"           Uganda   \n",
       "\n",
       "   trip_verified                                             review  \\\n",
       "0  Trip Verified  Dreadful airline - after emailing customer ser...   \n",
       "1   Not Verified  The lady at check-in was very rude and insiste...   \n",
       "2  Trip Verified  Dismal from start to end. Not all of the staff...   \n",
       "3   Not Verified  Airline was 1 hour late to board passengers an...   \n",
       "4  Trip Verified  Kenya Airways has really disappointed me for a...   \n",
       "\n",
       "  ratings_10 recommend type_of_traveller     cabin_flown  \\\n",
       "0          3        no          Business  Business Class   \n",
       "1          2        no          Business   Economy Class   \n",
       "2          3        no    Family Leisure  Business Class   \n",
       "3          1        no    Family Leisure   Economy Class   \n",
       "4          2        no      Solo Leisure   Economy Class   \n",
       "\n",
       "                             route  seat_comfort  cabin_staff_service  \\\n",
       "0                Nairobi to London           1.0                  5.0   \n",
       "1          Nairobi to Johannesburg           2.0                  2.0   \n",
       "2  London to Mauritius via Nairobi           4.0                  1.0   \n",
       "3              Nairobi to New York           1.0                  4.0   \n",
       "4               Nairobi to Entebbe           3.0                  3.0   \n",
       "\n",
       "   food_and_beverages  inflight_entertainment  ground_service  \\\n",
       "0                 1.0                     1.0             5.0   \n",
       "1                 3.0                     2.0             1.0   \n",
       "2                 1.0                     2.0             1.0   \n",
       "3                 1.0                     1.0             1.0   \n",
       "4                 5.0                     NaN             4.0   \n",
       "\n",
       "   wifi_and_connectivity  value_for_money                aircraft  \n",
       "0                    1.0              1.0                     NaN  \n",
       "1                    1.0              1.0                     NaN  \n",
       "2                    1.0              2.0  Boeing 787-8 / 737-800  \n",
       "3                    NaN              1.0                     NaN  \n",
       "4                    NaN              5.0                     NaN  "
      ]
     },
     "execution_count": 13,
     "metadata": {},
     "output_type": "execute_result"
    }
   ],
   "source": [
    "df = pd.DataFrame(review_list)\n",
    "df.head()"
   ]
  },
  {
   "cell_type": "code",
   "execution_count": 14,
   "metadata": {},
   "outputs": [
    {
     "data": {
      "text/plain": [
       "(435, 18)"
      ]
     },
     "execution_count": 14,
     "metadata": {},
     "output_type": "execute_result"
    }
   ],
   "source": [
    "df.shape"
   ]
  },
  {
   "cell_type": "code",
   "execution_count": 15,
   "metadata": {},
   "outputs": [
    {
     "name": "stdout",
     "output_type": "stream",
     "text": [
      "<class 'pandas.core.frame.DataFrame'>\n",
      "RangeIndex: 435 entries, 0 to 434\n",
      "Data columns (total 18 columns):\n",
      " #   Column                  Non-Null Count  Dtype  \n",
      "---  ------                  --------------  -----  \n",
      " 0   date_published          435 non-null    object \n",
      " 1   summary_title           435 non-null    object \n",
      " 2   country                 435 non-null    object \n",
      " 3   trip_verified           435 non-null    object \n",
      " 4   review                  435 non-null    object \n",
      " 5   ratings_10              435 non-null    object \n",
      " 6   recommend               435 non-null    object \n",
      " 7   type_of_traveller       268 non-null    object \n",
      " 8   cabin_flown             435 non-null    object \n",
      " 9   route                   268 non-null    object \n",
      " 10  seat_comfort            394 non-null    float64\n",
      " 11  cabin_staff_service     393 non-null    float64\n",
      " 12  food_and_beverages      377 non-null    float64\n",
      " 13  inflight_entertainment  345 non-null    float64\n",
      " 14  ground_service          257 non-null    float64\n",
      " 15  wifi_and_connectivity   71 non-null     float64\n",
      " 16  value_for_money         414 non-null    float64\n",
      " 17  aircraft                118 non-null    object \n",
      "dtypes: float64(7), object(11)\n",
      "memory usage: 61.3+ KB\n"
     ]
    }
   ],
   "source": [
    "df.info()"
   ]
  },
  {
   "cell_type": "code",
   "execution_count": 9,
   "metadata": {},
   "outputs": [
    {
     "name": "stdout",
     "output_type": "stream",
     "text": [
      "ID :  RG1101\n"
     ]
    }
   ],
   "source": [
    "import re\n",
    "\n",
    "html_string = '<div class=\"sku-bg\"> <span style=\"color:#000 !important;\">ID : </span> RG1101 </div>'\n",
    "\n",
    "value = re.sub(r'<.*?>', '', html_string).strip()\n",
    "re.search(r'ID\\s*:\\s*(\\w+)', value).group(1)\n",
    "\n",
    "print(value)\n"
   ]
  },
  {
   "cell_type": "code",
   "execution_count": 14,
   "metadata": {},
   "outputs": [
    {
     "ename": "NameError",
     "evalue": "name 'response' is not defined",
     "output_type": "error",
     "traceback": [
      "\u001b[0;31m---------------------------------------------------------------------------\u001b[0m",
      "\u001b[0;31mNameError\u001b[0m                                 Traceback (most recent call last)",
      "Cell \u001b[0;32mIn[14], line 1\u001b[0m\n\u001b[0;32m----> 1\u001b[0m re\u001b[39m.\u001b[39msearch(\u001b[39mr\u001b[39m\u001b[39m'\u001b[39m\u001b[39mID\u001b[39m\u001b[39m\\\u001b[39m\u001b[39ms*:\u001b[39m\u001b[39m\\\u001b[39m\u001b[39ms*(\u001b[39m\u001b[39m\\\u001b[39m\u001b[39mw+)\u001b[39m\u001b[39m'\u001b[39m, re\u001b[39m.\u001b[39msub(\u001b[39mr\u001b[39m\u001b[39m'\u001b[39m\u001b[39m<.*?>\u001b[39m\u001b[39m'\u001b[39m, \u001b[39m'\u001b[39m\u001b[39m'\u001b[39m, response\u001b[39m.\u001b[39mcss(\u001b[39m'\u001b[39m\u001b[39mdiv.sku-bg\u001b[39m\u001b[39m'\u001b[39m)\u001b[39m.\u001b[39mget())\u001b[39m.\u001b[39mstrip())\u001b[39m.\u001b[39mgroup(\u001b[39m1\u001b[39m)\n",
      "\u001b[0;31mNameError\u001b[0m: name 'response' is not defined"
     ]
    }
   ],
   "source": [
    "\n",
    "re.search(r'ID\\s*:\\s*(\\w+)', re.sub(r'<.*?>', '', response.css('div.sku-bg').get()).strip()).group(1)\n"
   ]
  },
  {
   "cell_type": "code",
   "execution_count": 15,
   "metadata": {},
   "outputs": [
    {
     "data": {
      "text/plain": [
       "'RG1101'"
      ]
     },
     "execution_count": 15,
     "metadata": {},
     "output_type": "execute_result"
    }
   ],
   "source": [
    "re.search(r'ID\\s*:\\s*(\\w+)', re.sub(r'<.*?>', '', html_code).strip()).group(1)"
   ]
  },
  {
   "cell_type": "code",
   "execution_count": 11,
   "metadata": {},
   "outputs": [
    {
     "data": {
      "text/plain": [
       "'RG1101'"
      ]
     },
     "execution_count": 11,
     "metadata": {},
     "output_type": "execute_result"
    }
   ],
   "source": [
    "import re\n",
    "\n",
    "html_code = '<div class=\"sku-bg\"> <span style=\"color:#000 !important;\">ID : </span> RG1101 </div>'\n",
    "re.sub(re.compile(r'<span.*?>.*?</span>|<div.*?>|</div>'), '',html_code).strip()"
   ]
  },
  {
   "cell_type": "code",
   "execution_count": 13,
   "metadata": {},
   "outputs": [
    {
     "data": {
      "text/plain": [
       "'RG1101'"
      ]
     },
     "execution_count": 13,
     "metadata": {},
     "output_type": "execute_result"
    }
   ],
   "source": [
    "re.sub(re.compile(r'<span.*?>.*?</span>|<div.*?>|</div>'), '', html_code).strip()\n"
   ]
  }
 ],
 "metadata": {
  "kernelspec": {
   "display_name": "web-scraping",
   "language": "python",
   "name": "python3"
  },
  "language_info": {
   "codemirror_mode": {
    "name": "ipython",
    "version": 3
   },
   "file_extension": ".py",
   "mimetype": "text/x-python",
   "name": "python",
   "nbconvert_exporter": "python",
   "pygments_lexer": "ipython3",
   "version": "3.10.12"
  },
  "orig_nbformat": 4
 },
 "nbformat": 4,
 "nbformat_minor": 2
}
